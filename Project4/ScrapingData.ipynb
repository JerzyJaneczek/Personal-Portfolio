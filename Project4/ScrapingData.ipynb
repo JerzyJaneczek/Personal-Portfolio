{
  "cells": [
    {
      "cell_type": "code",
      "execution_count": 24,
      "metadata": {
        "id": "fs0XP9nZH42x"
      },
      "outputs": [],
      "source": [
        "import requests\n",
        "\n",
        "standings_2024_url = \"https://fbref.com/en/comps/9/Premier-League-Stats\""
      ]
    },
    {
      "cell_type": "markdown",
      "metadata": {
        "id": "KtxB0DOFBltO"
      },
      "source": []
    },
    {
      "cell_type": "markdown",
      "metadata": {
        "id": "W3vUXfklIMpG"
      },
      "source": []
    },
    {
      "cell_type": "code",
      "execution_count": 16,
      "metadata": {
        "id": "O3Ik5-haIA41"
      },
      "outputs": [],
      "source": [
        "#Get HTML from server\n",
        "data = requests.get(standings_2024_url)"
      ]
    },
    {
      "cell_type": "code",
      "execution_count": null,
      "metadata": {
        "id": "YTaApIcCIEJD"
      },
      "outputs": [],
      "source": [
        "#Grab all href tags from <a> in the standings table, as we want data from all teams\n",
        "from bs4 import BeautifulSoup\n",
        "\n",
        "#Initialize soup object\n",
        "soup = BeautifulSoup(data.text)\n",
        "soup"
      ]
    },
    {
      "cell_type": "code",
      "execution_count": 18,
      "metadata": {
        "colab": {
          "base_uri": "https://localhost:8080/"
        },
        "id": "WNtKsZ2VJ5b8",
        "outputId": "ee8eb652-0d28-48c2-d9e1-28fdb1dd5bb5"
      },
      "outputs": [
        {
          "ename": "IndexError",
          "evalue": "list index out of range",
          "output_type": "error",
          "traceback": [
            "\u001b[0;31m---------------------------------------------------------------------------\u001b[0m",
            "\u001b[0;31mIndexError\u001b[0m                                Traceback (most recent call last)",
            "Cell \u001b[0;32mIn[18], line 2\u001b[0m\n\u001b[1;32m      1\u001b[0m \u001b[38;5;66;03m#Select the table element using table.stats_table css selector, specifically select the first table\u001b[39;00m\n\u001b[0;32m----> 2\u001b[0m standings_table \u001b[38;5;241m=\u001b[39m \u001b[43msoup\u001b[49m\u001b[38;5;241;43m.\u001b[39;49m\u001b[43mselect\u001b[49m\u001b[43m(\u001b[49m\u001b[38;5;124;43m'\u001b[39;49m\u001b[38;5;124;43mtable.stats_table\u001b[39;49m\u001b[38;5;124;43m'\u001b[39;49m\u001b[43m)\u001b[49m\u001b[43m[\u001b[49m\u001b[38;5;241;43m0\u001b[39;49m\u001b[43m]\u001b[49m\n",
            "\u001b[0;31mIndexError\u001b[0m: list index out of range"
          ]
        }
      ],
      "source": [
        "#Select the table element using table.stats_table css selector, specifically select the first table\n",
        "standings_table = soup.select('table.stats_table')[0]\n"
      ]
    },
    {
      "cell_type": "code",
      "execution_count": 5,
      "metadata": {
        "colab": {
          "base_uri": "https://localhost:8080/",
          "height": 376
        },
        "id": "NvSNy6D7Jpuc",
        "outputId": "b7fa0ca6-2a58-4c5e-8c0a-200adf730138"
      },
      "outputs": [
        {
          "ename": "NameError",
          "evalue": "name 'standings_table' is not defined",
          "output_type": "error",
          "traceback": [
            "\u001b[0;31m---------------------------------------------------------------------------\u001b[0m",
            "\u001b[0;31mNameError\u001b[0m                                 Traceback (most recent call last)",
            "Cell \u001b[0;32mIn[5], line 1\u001b[0m\n\u001b[0;32m----> 1\u001b[0m links \u001b[38;5;241m=\u001b[39m \u001b[43mstandings_table\u001b[49m\u001b[38;5;241m.\u001b[39mfind_all(\u001b[38;5;124m'\u001b[39m\u001b[38;5;124ma\u001b[39m\u001b[38;5;124m'\u001b[39m)\n\u001b[1;32m      2\u001b[0m links \u001b[38;5;241m=\u001b[39m [l\u001b[38;5;241m.\u001b[39mget(\u001b[38;5;124m\"\u001b[39m\u001b[38;5;124mhref\u001b[39m\u001b[38;5;124m\"\u001b[39m) \u001b[38;5;28;01mfor\u001b[39;00m l \u001b[38;5;129;01min\u001b[39;00m links]\n\u001b[1;32m      4\u001b[0m \u001b[38;5;66;03m#Want to remove all links to do with players and only have links to do with clubs\u001b[39;00m\n",
            "\u001b[0;31mNameError\u001b[0m: name 'standings_table' is not defined"
          ]
        }
      ],
      "source": [
        "links = standings_table.find_all('a')\n",
        "links = [l.get(\"href\") for l in links]\n",
        "\n",
        "#Want to remove all links to do with players and only have links to do with clubs\n",
        "links = [l for l in links if \"/squads\" in l] #Include only links with \"/squad\" inside the link\n",
        "links #Note that all of these urls are relative paths"
      ]
    },
    {
      "cell_type": "code",
      "execution_count": 6,
      "metadata": {
        "colab": {
          "base_uri": "https://localhost:8080/"
        },
        "id": "W5M-F8_kKFvN",
        "outputId": "f6db9c22-505e-4009-9a85-00044f69fdaf"
      },
      "outputs": [
        {
          "ename": "NameError",
          "evalue": "name 'links' is not defined",
          "output_type": "error",
          "traceback": [
            "\u001b[0;31m---------------------------------------------------------------------------\u001b[0m",
            "\u001b[0;31mNameError\u001b[0m                                 Traceback (most recent call last)",
            "Cell \u001b[0;32mIn[6], line 2\u001b[0m\n\u001b[1;32m      1\u001b[0m \u001b[38;5;66;03m#Add full paths by concatenating string to all\u001b[39;00m\n\u001b[0;32m----> 2\u001b[0m team_urls \u001b[38;5;241m=\u001b[39m [\u001b[38;5;124mf\u001b[39m\u001b[38;5;124m\"\u001b[39m\u001b[38;5;124mhttps://fbref.com\u001b[39m\u001b[38;5;132;01m{\u001b[39;00ml\u001b[38;5;132;01m}\u001b[39;00m\u001b[38;5;124m\"\u001b[39m \u001b[38;5;28;01mfor\u001b[39;00m l \u001b[38;5;129;01min\u001b[39;00m \u001b[43mlinks\u001b[49m]\n\u001b[1;32m      3\u001b[0m team_urls\n",
            "\u001b[0;31mNameError\u001b[0m: name 'links' is not defined"
          ]
        }
      ],
      "source": [
        "#Add full paths by concatenating string to all\n",
        "team_urls = [f\"https://fbref.com{l}\" for l in links]\n",
        "team_urls\n"
      ]
    },
    {
      "cell_type": "code",
      "execution_count": 50,
      "metadata": {
        "colab": {
          "base_uri": "https://localhost:8080/",
          "height": 216
        },
        "collapsed": true,
        "id": "J5OBk8k7RVnG",
        "outputId": "9aec96b5-eaf6-4327-ff8e-fb2173a8ea93"
      },
      "outputs": [],
      "source": [
        "arsenal_url = team_urls[5]\n",
        "#Get HTML from Arsenal page\n",
        "arsenal_data = requests.get(arsenal_url)\n",
        "\n",
        "# arsenal_fixtures = soup.select('table.stats_table')[0]\n",
        "\n",
        "\n"
      ]
    },
    {
      "cell_type": "code",
      "execution_count": 25,
      "metadata": {
        "colab": {
          "base_uri": "https://localhost:8080/",
          "height": 329
        },
        "id": "aXF4T8TnSXux",
        "outputId": "67a16240-25bd-46ff-92a4-ef8a4d004913"
      },
      "outputs": [
        {
          "ename": "NameError",
          "evalue": "name 'arsenal_data' is not defined",
          "output_type": "error",
          "traceback": [
            "\u001b[0;31m---------------------------------------------------------------------------\u001b[0m",
            "\u001b[0;31mNameError\u001b[0m                                 Traceback (most recent call last)",
            "Cell \u001b[0;32mIn[25], line 5\u001b[0m\n\u001b[1;32m      1\u001b[0m \u001b[38;5;28;01mimport\u001b[39;00m \u001b[38;5;21;01mpandas\u001b[39;00m \u001b[38;5;28;01mas\u001b[39;00m \u001b[38;5;21;01mpd\u001b[39;00m\n\u001b[1;32m      3\u001b[0m \u001b[38;5;66;03m#Use HTML to read into pd df, pd will detect tables\u001b[39;00m\n\u001b[1;32m      4\u001b[0m \u001b[38;5;66;03m#Match parameter - The set of tables containing text matching this regex or string will be returned.\u001b[39;00m\n\u001b[0;32m----> 5\u001b[0m matches \u001b[38;5;241m=\u001b[39m pd\u001b[38;5;241m.\u001b[39mread_html(\u001b[43marsenal_data\u001b[49m\u001b[38;5;241m.\u001b[39mtext, match\u001b[38;5;241m=\u001b[39m\u001b[38;5;124m\"\u001b[39m\u001b[38;5;124mScores & Fixtures\u001b[39m\u001b[38;5;124m\"\u001b[39m)[\u001b[38;5;241m0\u001b[39m]\n",
            "\u001b[0;31mNameError\u001b[0m: name 'arsenal_data' is not defined"
          ]
        }
      ],
      "source": [
        "import pandas as pd\n",
        "\n",
        "#Use HTML to read into pd df, pd will detect tables\n",
        "#Match parameter - The set of tables containing text matching this regex or string will be returned.\n",
        "matches = pd.read_html(arsenal_data.text, match=\"Scores & Fixtures\")[0]"
      ]
    },
    {
      "cell_type": "markdown",
      "metadata": {
        "id": "dS1FGkh3ccW7"
      },
      "source": [
        "# Extract shooting stats from each match"
      ]
    },
    {
      "cell_type": "code",
      "execution_count": 52,
      "metadata": {
        "id": "7HvD3cwTbJe_"
      },
      "outputs": [
        {
          "data": {
            "text/plain": [
              "[]"
            ]
          },
          "execution_count": 52,
          "metadata": {},
          "output_type": "execute_result"
        }
      ],
      "source": [
        "soup = BeautifulSoup(arsenal_data.text)\n",
        "links = soup.find_all(\"a\") #Get all the <a> tags, links at this point includes array full of a tags, we want to get the urls from these a tags (href from a)\n",
        "links = [l.get(\"href\") for l in links ] #Get all the hrefs\n",
        "links = [l for l in links if l and 'all_comps/shooting' in l]\n",
        "links\n"
      ]
    },
    {
      "cell_type": "code",
      "execution_count": 53,
      "metadata": {
        "colab": {
          "base_uri": "https://localhost:8080/",
          "height": 216
        },
        "id": "FDdsrulHdKcO",
        "outputId": "d69ece6b-bc32-4667-ce4d-ae66488d1aad"
      },
      "outputs": [
        {
          "ename": "IndexError",
          "evalue": "list index out of range",
          "output_type": "error",
          "traceback": [
            "\u001b[0;31m---------------------------------------------------------------------------\u001b[0m",
            "\u001b[0;31mIndexError\u001b[0m                                Traceback (most recent call last)",
            "Cell \u001b[0;32mIn[53], line 1\u001b[0m\n\u001b[0;32m----> 1\u001b[0m shooting_html \u001b[38;5;241m=\u001b[39m requests\u001b[38;5;241m.\u001b[39mget(\u001b[38;5;124mf\u001b[39m\u001b[38;5;124m\"\u001b[39m\u001b[38;5;124mhttps://fbref.com\u001b[39m\u001b[38;5;132;01m{\u001b[39;00m\u001b[43mlinks\u001b[49m\u001b[43m[\u001b[49m\u001b[38;5;241;43m0\u001b[39;49m\u001b[43m]\u001b[49m\u001b[38;5;132;01m}\u001b[39;00m\u001b[38;5;124m\"\u001b[39m)\n\u001b[1;32m      2\u001b[0m shooting_table \u001b[38;5;241m=\u001b[39m pd\u001b[38;5;241m.\u001b[39mread_html(shooting_html\u001b[38;5;241m.\u001b[39mtext, match\u001b[38;5;241m=\u001b[39m\u001b[38;5;124m\"\u001b[39m\u001b[38;5;124mShooting\u001b[39m\u001b[38;5;124m\"\u001b[39m)[\u001b[38;5;241m0\u001b[39m]\n\u001b[1;32m      3\u001b[0m shooting_table\u001b[38;5;241m.\u001b[39mhead() \u001b[38;5;66;03m#From head here we can see that there is multi-index level as there are two rows of columns, generally this is not necessary\u001b[39;00m\n",
            "\u001b[0;31mIndexError\u001b[0m: list index out of range"
          ]
        }
      ],
      "source": [
        "shooting_html = requests.get(f\"https://fbref.com{links[0]}\")\n",
        "shooting_table = pd.read_html(shooting_html.text, match=\"Shooting\")[0]\n",
        "shooting_table.head() #From head here we can see that there is multi-index level as there are two rows of columns, generally this is not necessary\n",
        "\n",
        "#We want to be able to index by the column names and so we can drop level\n",
        "shooting_table.columns = shooting_table.columns.droplevel()\n",
        "shooting_table.columns"
      ]
    },
    {
      "cell_type": "code",
      "execution_count": 54,
      "metadata": {
        "id": "cM1OgnxJd1_U"
      },
      "outputs": [
        {
          "name": "stdout",
          "output_type": "stream",
          "text": [
            "(51, 19) (52, 26)\n"
          ]
        },
        {
          "data": {
            "text/html": [
              "<div>\n",
              "<style scoped>\n",
              "    .dataframe tbody tr th:only-of-type {\n",
              "        vertical-align: middle;\n",
              "    }\n",
              "\n",
              "    .dataframe tbody tr th {\n",
              "        vertical-align: top;\n",
              "    }\n",
              "\n",
              "    .dataframe thead th {\n",
              "        text-align: right;\n",
              "    }\n",
              "</style>\n",
              "<table border=\"1\" class=\"dataframe\">\n",
              "  <thead>\n",
              "    <tr style=\"text-align: right;\">\n",
              "      <th></th>\n",
              "      <th>Date</th>\n",
              "      <th>Time</th>\n",
              "      <th>Comp</th>\n",
              "      <th>Round</th>\n",
              "      <th>Day</th>\n",
              "      <th>Venue</th>\n",
              "      <th>Result</th>\n",
              "      <th>GF</th>\n",
              "      <th>GA</th>\n",
              "      <th>Opponent</th>\n",
              "      <th>...</th>\n",
              "      <th>Match Report</th>\n",
              "      <th>Notes</th>\n",
              "      <th>Sh</th>\n",
              "      <th>SoT</th>\n",
              "      <th>SoT%</th>\n",
              "      <th>G/Sh</th>\n",
              "      <th>G/SoT</th>\n",
              "      <th>FK</th>\n",
              "      <th>PK</th>\n",
              "      <th>xG_y</th>\n",
              "    </tr>\n",
              "  </thead>\n",
              "  <tbody>\n",
              "    <tr>\n",
              "      <th>0</th>\n",
              "      <td>2023-08-13</td>\n",
              "      <td>16:30</td>\n",
              "      <td>Premier League</td>\n",
              "      <td>Matchweek 1</td>\n",
              "      <td>Sun</td>\n",
              "      <td>Home</td>\n",
              "      <td>D</td>\n",
              "      <td>1</td>\n",
              "      <td>1</td>\n",
              "      <td>Liverpool</td>\n",
              "      <td>...</td>\n",
              "      <td>Match Report</td>\n",
              "      <td>NaN</td>\n",
              "      <td>10</td>\n",
              "      <td>4</td>\n",
              "      <td>40.0</td>\n",
              "      <td>0.10</td>\n",
              "      <td>0.25</td>\n",
              "      <td>1.0</td>\n",
              "      <td>0</td>\n",
              "      <td>1.4</td>\n",
              "    </tr>\n",
              "    <tr>\n",
              "      <th>1</th>\n",
              "      <td>2023-08-20</td>\n",
              "      <td>16:30</td>\n",
              "      <td>Premier League</td>\n",
              "      <td>Matchweek 2</td>\n",
              "      <td>Sun</td>\n",
              "      <td>Away</td>\n",
              "      <td>L</td>\n",
              "      <td>1</td>\n",
              "      <td>3</td>\n",
              "      <td>West Ham</td>\n",
              "      <td>...</td>\n",
              "      <td>Match Report</td>\n",
              "      <td>NaN</td>\n",
              "      <td>16</td>\n",
              "      <td>3</td>\n",
              "      <td>18.8</td>\n",
              "      <td>0.06</td>\n",
              "      <td>0.33</td>\n",
              "      <td>0.0</td>\n",
              "      <td>0</td>\n",
              "      <td>2.5</td>\n",
              "    </tr>\n",
              "    <tr>\n",
              "      <th>2</th>\n",
              "      <td>2023-08-25</td>\n",
              "      <td>20:00</td>\n",
              "      <td>Premier League</td>\n",
              "      <td>Matchweek 3</td>\n",
              "      <td>Fri</td>\n",
              "      <td>Home</td>\n",
              "      <td>W</td>\n",
              "      <td>3</td>\n",
              "      <td>0</td>\n",
              "      <td>Luton Town</td>\n",
              "      <td>...</td>\n",
              "      <td>Match Report</td>\n",
              "      <td>NaN</td>\n",
              "      <td>19</td>\n",
              "      <td>8</td>\n",
              "      <td>42.1</td>\n",
              "      <td>0.16</td>\n",
              "      <td>0.38</td>\n",
              "      <td>1.0</td>\n",
              "      <td>0</td>\n",
              "      <td>2.2</td>\n",
              "    </tr>\n",
              "    <tr>\n",
              "      <th>3</th>\n",
              "      <td>2023-08-30</td>\n",
              "      <td>19:45</td>\n",
              "      <td>EFL Cup</td>\n",
              "      <td>Second round</td>\n",
              "      <td>Wed</td>\n",
              "      <td>Home</td>\n",
              "      <td>W</td>\n",
              "      <td>2</td>\n",
              "      <td>1</td>\n",
              "      <td>AFC Wimbledon</td>\n",
              "      <td>...</td>\n",
              "      <td>Match Report</td>\n",
              "      <td>NaN</td>\n",
              "      <td>23</td>\n",
              "      <td>9</td>\n",
              "      <td>39.1</td>\n",
              "      <td>0.04</td>\n",
              "      <td>0.11</td>\n",
              "      <td>NaN</td>\n",
              "      <td>1</td>\n",
              "      <td>NaN</td>\n",
              "    </tr>\n",
              "    <tr>\n",
              "      <th>4</th>\n",
              "      <td>2023-09-02</td>\n",
              "      <td>15:00</td>\n",
              "      <td>Premier League</td>\n",
              "      <td>Matchweek 4</td>\n",
              "      <td>Sat</td>\n",
              "      <td>Home</td>\n",
              "      <td>L</td>\n",
              "      <td>0</td>\n",
              "      <td>1</td>\n",
              "      <td>Nott'ham Forest</td>\n",
              "      <td>...</td>\n",
              "      <td>Match Report</td>\n",
              "      <td>NaN</td>\n",
              "      <td>21</td>\n",
              "      <td>2</td>\n",
              "      <td>9.5</td>\n",
              "      <td>0.00</td>\n",
              "      <td>0.00</td>\n",
              "      <td>2.0</td>\n",
              "      <td>0</td>\n",
              "      <td>2.3</td>\n",
              "    </tr>\n",
              "  </tbody>\n",
              "</table>\n",
              "<p>5 rows × 27 columns</p>\n",
              "</div>"
            ],
            "text/plain": [
              "         Date   Time            Comp         Round  Day Venue Result GF GA  \\\n",
              "0  2023-08-13  16:30  Premier League   Matchweek 1  Sun  Home      D  1  1   \n",
              "1  2023-08-20  16:30  Premier League   Matchweek 2  Sun  Away      L  1  3   \n",
              "2  2023-08-25  20:00  Premier League   Matchweek 3  Fri  Home      W  3  0   \n",
              "3  2023-08-30  19:45         EFL Cup  Second round  Wed  Home      W  2  1   \n",
              "4  2023-09-02  15:00  Premier League   Matchweek 4  Sat  Home      L  0  1   \n",
              "\n",
              "          Opponent  ...  Match Report  Notes  Sh  SoT  SoT%  G/Sh G/SoT   FK  \\\n",
              "0        Liverpool  ...  Match Report    NaN  10    4  40.0  0.10  0.25  1.0   \n",
              "1         West Ham  ...  Match Report    NaN  16    3  18.8  0.06  0.33  0.0   \n",
              "2       Luton Town  ...  Match Report    NaN  19    8  42.1  0.16  0.38  1.0   \n",
              "3    AFC Wimbledon  ...  Match Report    NaN  23    9  39.1  0.04  0.11  NaN   \n",
              "4  Nott'ham Forest  ...  Match Report    NaN  21    2   9.5  0.00  0.00  2.0   \n",
              "\n",
              "  PK  xG_y  \n",
              "0  0   1.4  \n",
              "1  0   2.5  \n",
              "2  0   2.2  \n",
              "3  1   NaN  \n",
              "4  0   2.3  \n",
              "\n",
              "[5 rows x 27 columns]"
            ]
          },
          "execution_count": 54,
          "metadata": {},
          "output_type": "execute_result"
        }
      ],
      "source": [
        "shooting_cols = [\"Date\", \"Sh\", \"SoT\", \"SoT%\", \"G/Sh\", \"G/SoT\", \"FK\", \"PK\", \"xG\"]\n",
        "\n",
        "match_shape = matches.shape\n",
        "shooting_shape = shooting_table.shape\n",
        "print(match_shape, shooting_shape) #(52,19) and (53,26), our dataset is not perfect and for some reason there is a match that is not logged in the table\n",
        "\n",
        "\n",
        "#With the above in mind when we merge we will only combine the matching dates in both\n",
        "team_data = matches.merge(shooting_table[shooting_cols], on=\"Date\")\n",
        "team_data.head()\n",
        "# print(team_data.shape) #Shape is (52,27)"
      ]
    },
    {
      "cell_type": "markdown",
      "metadata": {
        "id": "Oz9uzOYrhyes"
      },
      "source": [
        "## Scrape data for multiple teams across multiple seasons"
      ]
    },
    {
      "cell_type": "code",
      "execution_count": 2,
      "metadata": {
        "colab": {
          "base_uri": "https://localhost:8080/"
        },
        "id": "qCjD5MoyfFF9",
        "outputId": "bba6aff8-4abe-4324-ed9e-378719092f20"
      },
      "outputs": [
        {
          "data": {
            "text/plain": [
              "[2024, 2023, 2022]"
            ]
          },
          "execution_count": 2,
          "metadata": {},
          "output_type": "execute_result"
        }
      ],
      "source": [
        "years = list(range(2024,2021, -1))\n",
        "years"
      ]
    },
    {
      "cell_type": "code",
      "execution_count": 3,
      "metadata": {
        "id": "eLm6RlQ8iCLV"
      },
      "outputs": [],
      "source": [
        "all_matches = []"
      ]
    },
    {
      "cell_type": "code",
      "execution_count": 4,
      "metadata": {
        "id": "xWWSapan7F1U"
      },
      "outputs": [],
      "source": [
        "standings_url = \"https://fbref.com/en/comps/9/Premier-League-Stats\""
      ]
    },
    {
      "cell_type": "code",
      "execution_count": 8,
      "metadata": {
        "colab": {
          "base_uri": "https://localhost:8080/",
          "height": 216
        },
        "id": "IGLtPiRo7W-c",
        "outputId": "6b232c5b-1614-4ea5-fbb4-14a938794825"
      },
      "outputs": [
        {
          "ename": "IndexError",
          "evalue": "list index out of range",
          "output_type": "error",
          "traceback": [
            "\u001b[0;31m---------------------------------------------------------------------------\u001b[0m",
            "\u001b[0;31mIndexError\u001b[0m                                Traceback (most recent call last)",
            "Cell \u001b[0;32mIn[8], line 14\u001b[0m\n\u001b[1;32m     12\u001b[0m data \u001b[38;5;241m=\u001b[39m requests\u001b[38;5;241m.\u001b[39mget(standings_url, headers \u001b[38;5;241m=\u001b[39m headers)\n\u001b[1;32m     13\u001b[0m soup \u001b[38;5;241m=\u001b[39m BeautifulSoup(data\u001b[38;5;241m.\u001b[39mtext)\n\u001b[0;32m---> 14\u001b[0m standings_table \u001b[38;5;241m=\u001b[39m \u001b[43msoup\u001b[49m\u001b[38;5;241;43m.\u001b[39;49m\u001b[43mselect\u001b[49m\u001b[43m(\u001b[49m\u001b[38;5;124;43m'\u001b[39;49m\u001b[38;5;124;43mtable.stats_table\u001b[39;49m\u001b[38;5;124;43m'\u001b[39;49m\u001b[43m)\u001b[49m\u001b[43m[\u001b[49m\u001b[38;5;241;43m0\u001b[39;49m\u001b[43m]\u001b[49m\n\u001b[1;32m     16\u001b[0m links \u001b[38;5;241m=\u001b[39m standings_table\u001b[38;5;241m.\u001b[39mfind_all(\u001b[38;5;124m'\u001b[39m\u001b[38;5;124ma\u001b[39m\u001b[38;5;124m'\u001b[39m)\n\u001b[1;32m     17\u001b[0m links \u001b[38;5;241m=\u001b[39m [l\u001b[38;5;241m.\u001b[39mget(\u001b[38;5;124m\"\u001b[39m\u001b[38;5;124mhref\u001b[39m\u001b[38;5;124m\"\u001b[39m) \u001b[38;5;28;01mfor\u001b[39;00m l \u001b[38;5;129;01min\u001b[39;00m links]\n",
            "\u001b[0;31mIndexError\u001b[0m: list index out of range"
          ]
        }
      ],
      "source": [
        "import time\n",
        "import requests\n",
        "import pandas as pd\n",
        "from bs4 import BeautifulSoup\n",
        "import random\n",
        "\n",
        "user_agents = [\n",
        "    'Mozilla/5.0 (Windows NT 10.0; Win64; x64) AppleWebKit/537.36 (KHTML, like Gecko) Chrome/109.0.0.0 Safari/537.36'\n",
        "    'Mozilla/5.0 (Macintosh; Intel Mac OS X 10_15_7) AppleWebKit/537.36 (KHTML, like Gecko) Chrome/109.0.0.0 Safari/537.36'\n",
        "    'Mozilla/5.0 (Windows NT 10.0; Win64; x64) AppleWebKit/537.36 (KHTML, like Gecko) Chrome/108.0.0.0 Safari/537.36'\n",
        "    'Mozilla/5.0 (Macintosh; Intel Mac OS X 10_15_7) AppleWebKit/537.36 (KHTML, like Gecko) Chrome/108.0.0.0 Safari/537.36'\n",
        "    'Mozilla/5.0 (X11; Linux x86_64) AppleWebKit/537.36 (KHTML, like Gecko) Chrome/108.0.0.0 Safari/537.36'\n",
        "    'Mozilla/5.0 (Macintosh; Intel Mac OS X 10_15_7) AppleWebKit/605.1.15 (KHTML, like Gecko) Version/16.1 Safari/605.1.15'\n",
        "    'Mozilla/5.0 (Macintosh; Intel Mac OS X 13_1) AppleWebKit/605.1.15 (KHTML, like Gecko) Version/16.1 Safari/605.1.15'\n",
        "]\n",
        "\n",
        "\n",
        "headers = {'User-Agent': random.choice(user_agents)}\n",
        "\n",
        "shooting_cols = [\"Date\", \"Sh\", \"SoT\", \"SoT%\", \"G/Sh\", \"G/SoT\", \"FK\", \"PK\", \"xG\"]\n",
        "\n",
        "for year in years: #Scrape each season\n",
        "  data = requests.get(standings_url, headers = headers)\n",
        "  soup = BeautifulSoup(data.text)\n",
        "  standings_table = soup.select('table.stats_table')[0]\n",
        "\n",
        "  links = standings_table.find_all('a')\n",
        "  links = [l.get(\"href\") for l in links]\n",
        "  links = [l for l in links if \"/squads\" in l]\n",
        "\n",
        "  team_urls = [f\"https://fbref.com{l}\" for l in links]\n",
        "\n",
        "  previous_season = soup.select(\"a.prev\")[0].get(\"href\")\n",
        "  standings_url =f\"https://fbref.com{previous_season}\"\n",
        "\n",
        "  for team_url in team_urls: #Scrape each team in a given season\n",
        "    team_name = team_url.split(\"/\")[-1].replace(\"-Stats\",\"\").replace(\"-\",\"\") #Get the team name\n",
        "    team_html = requests.get(team_url)\n",
        "    soup = BeautifulSoup(team_html.text)\n",
        "    print(team_name)\n",
        "\n",
        "    matches = pd.read_html(team_html.text, match=\"Scores & Fixtures\")[0] #Get table of match data\n",
        "\n",
        "    links = soup.find_all('a')\n",
        "    links = [l.get(\"href\") for l in links ]\n",
        "    links = [l for l in links if l and 'all_comps/shooting' in l] #Get shooting links\n",
        "\n",
        "    shooting_html = requests.get(f\"https://fbref.com{links[0]}\") #Convert to absolute url\n",
        "    try:\n",
        "      shooting_table = pd.read_html(shooting_html.text, match=\"Shooting\")[0]\n",
        "      shooting_table.head()\n",
        "      shooting_table.columns = shooting_table.columns.droplevel()\n",
        "    except ValueError:\n",
        "      continue\n",
        "\n",
        "\n",
        "    try:\n",
        "      team_data = matches.merge(shooting_table[shooting_cols], on=\"Date\") #Some shooting stats not available for all teams\n",
        "    except ValueError:\n",
        "      continue\n",
        "\n",
        "    team_data[team_data[\"Comp\"] == \"Premier League\"] #We are predicting premier league so for now we only want data in Premier League\n",
        "\n",
        "    #Make sure you preserve important data\n",
        "    team_data[\"Season\"] = year\n",
        "    team_data[\"Name\"] = team_name\n",
        "\n",
        "    all_matches.append(team_data)\n",
        "    time.sleep(1) #Good practice so that you dont scrape too quickly and slow down website\n"
      ]
    },
    {
      "cell_type": "markdown",
      "metadata": {
        "id": "4jsj8OzK_riH"
      },
      "source": [
        "match_df = pd.concat(all_matches)\n",
        "all_matches"
      ]
    },
    {
      "cell_type": "code",
      "execution_count": 34,
      "metadata": {},
      "outputs": [
        {
          "data": {
            "text/html": [
              "<div>\n",
              "<style scoped>\n",
              "    .dataframe tbody tr th:only-of-type {\n",
              "        vertical-align: middle;\n",
              "    }\n",
              "\n",
              "    .dataframe tbody tr th {\n",
              "        vertical-align: top;\n",
              "    }\n",
              "\n",
              "    .dataframe thead th {\n",
              "        text-align: right;\n",
              "    }\n",
              "</style>\n",
              "<table border=\"1\" class=\"dataframe\">\n",
              "  <thead>\n",
              "    <tr style=\"text-align: right;\">\n",
              "      <th></th>\n",
              "      <th>Date</th>\n",
              "      <th>Time</th>\n",
              "      <th>Comp</th>\n",
              "      <th>Round</th>\n",
              "      <th>Day</th>\n",
              "      <th>Venue</th>\n",
              "      <th>Result</th>\n",
              "      <th>GF</th>\n",
              "      <th>GA</th>\n",
              "      <th>Opponent</th>\n",
              "      <th>...</th>\n",
              "      <th>Sh</th>\n",
              "      <th>SoT</th>\n",
              "      <th>SoT%</th>\n",
              "      <th>G/Sh</th>\n",
              "      <th>G/SoT</th>\n",
              "      <th>FK</th>\n",
              "      <th>PK</th>\n",
              "      <th>xG_y</th>\n",
              "      <th>Season</th>\n",
              "      <th>Name</th>\n",
              "    </tr>\n",
              "  </thead>\n",
              "  <tbody>\n",
              "    <tr>\n",
              "      <th>0</th>\n",
              "      <td>2023-08-06</td>\n",
              "      <td>16:00</td>\n",
              "      <td>Community Shield</td>\n",
              "      <td>FA Community Shield</td>\n",
              "      <td>Sun</td>\n",
              "      <td>Neutral</td>\n",
              "      <td>D</td>\n",
              "      <td>1 (1)</td>\n",
              "      <td>1 (4)</td>\n",
              "      <td>Arsenal</td>\n",
              "      <td>...</td>\n",
              "      <td>8.0</td>\n",
              "      <td>4.0</td>\n",
              "      <td>50.0</td>\n",
              "      <td>0.13</td>\n",
              "      <td>0.25</td>\n",
              "      <td>NaN</td>\n",
              "      <td>0</td>\n",
              "      <td>NaN</td>\n",
              "      <td>2022</td>\n",
              "      <td>ManchesterCity</td>\n",
              "    </tr>\n",
              "    <tr>\n",
              "      <th>1</th>\n",
              "      <td>2023-08-11</td>\n",
              "      <td>20:00</td>\n",
              "      <td>Premier League</td>\n",
              "      <td>Matchweek 1</td>\n",
              "      <td>Fri</td>\n",
              "      <td>Away</td>\n",
              "      <td>W</td>\n",
              "      <td>3</td>\n",
              "      <td>0</td>\n",
              "      <td>Burnley</td>\n",
              "      <td>...</td>\n",
              "      <td>17.0</td>\n",
              "      <td>8.0</td>\n",
              "      <td>47.1</td>\n",
              "      <td>0.18</td>\n",
              "      <td>0.38</td>\n",
              "      <td>0.0</td>\n",
              "      <td>0</td>\n",
              "      <td>1.9</td>\n",
              "      <td>2022</td>\n",
              "      <td>ManchesterCity</td>\n",
              "    </tr>\n",
              "    <tr>\n",
              "      <th>2</th>\n",
              "      <td>2023-08-16</td>\n",
              "      <td>22:00</td>\n",
              "      <td>Super Cup</td>\n",
              "      <td>UEFA Super Cup</td>\n",
              "      <td>Wed</td>\n",
              "      <td>Home</td>\n",
              "      <td>D</td>\n",
              "      <td>1 (5)</td>\n",
              "      <td>1 (4)</td>\n",
              "      <td>es Sevilla</td>\n",
              "      <td>...</td>\n",
              "      <td>23.0</td>\n",
              "      <td>7.0</td>\n",
              "      <td>30.4</td>\n",
              "      <td>0.04</td>\n",
              "      <td>0.14</td>\n",
              "      <td>NaN</td>\n",
              "      <td>0</td>\n",
              "      <td>NaN</td>\n",
              "      <td>2022</td>\n",
              "      <td>ManchesterCity</td>\n",
              "    </tr>\n",
              "    <tr>\n",
              "      <th>3</th>\n",
              "      <td>2023-08-19</td>\n",
              "      <td>20:00</td>\n",
              "      <td>Premier League</td>\n",
              "      <td>Matchweek 2</td>\n",
              "      <td>Sat</td>\n",
              "      <td>Home</td>\n",
              "      <td>W</td>\n",
              "      <td>1</td>\n",
              "      <td>0</td>\n",
              "      <td>Newcastle Utd</td>\n",
              "      <td>...</td>\n",
              "      <td>14.0</td>\n",
              "      <td>4.0</td>\n",
              "      <td>28.6</td>\n",
              "      <td>0.07</td>\n",
              "      <td>0.25</td>\n",
              "      <td>0.0</td>\n",
              "      <td>0</td>\n",
              "      <td>1.0</td>\n",
              "      <td>2022</td>\n",
              "      <td>ManchesterCity</td>\n",
              "    </tr>\n",
              "    <tr>\n",
              "      <th>4</th>\n",
              "      <td>2023-08-27</td>\n",
              "      <td>14:00</td>\n",
              "      <td>Premier League</td>\n",
              "      <td>Matchweek 3</td>\n",
              "      <td>Sun</td>\n",
              "      <td>Away</td>\n",
              "      <td>W</td>\n",
              "      <td>2</td>\n",
              "      <td>1</td>\n",
              "      <td>Sheffield Utd</td>\n",
              "      <td>...</td>\n",
              "      <td>29.0</td>\n",
              "      <td>9.0</td>\n",
              "      <td>31.0</td>\n",
              "      <td>0.07</td>\n",
              "      <td>0.22</td>\n",
              "      <td>2.0</td>\n",
              "      <td>0</td>\n",
              "      <td>3.5</td>\n",
              "      <td>2022</td>\n",
              "      <td>ManchesterCity</td>\n",
              "    </tr>\n",
              "    <tr>\n",
              "      <th>...</th>\n",
              "      <td>...</td>\n",
              "      <td>...</td>\n",
              "      <td>...</td>\n",
              "      <td>...</td>\n",
              "      <td>...</td>\n",
              "      <td>...</td>\n",
              "      <td>...</td>\n",
              "      <td>...</td>\n",
              "      <td>...</td>\n",
              "      <td>...</td>\n",
              "      <td>...</td>\n",
              "      <td>...</td>\n",
              "      <td>...</td>\n",
              "      <td>...</td>\n",
              "      <td>...</td>\n",
              "      <td>...</td>\n",
              "      <td>...</td>\n",
              "      <td>...</td>\n",
              "      <td>...</td>\n",
              "      <td>...</td>\n",
              "      <td>...</td>\n",
              "    </tr>\n",
              "    <tr>\n",
              "      <th>36</th>\n",
              "      <td>2024-04-24</td>\n",
              "      <td>20:00</td>\n",
              "      <td>Premier League</td>\n",
              "      <td>Matchweek 29</td>\n",
              "      <td>Wed</td>\n",
              "      <td>Away</td>\n",
              "      <td>L</td>\n",
              "      <td>2</td>\n",
              "      <td>4</td>\n",
              "      <td>Manchester Utd</td>\n",
              "      <td>...</td>\n",
              "      <td>10.0</td>\n",
              "      <td>4.0</td>\n",
              "      <td>40.0</td>\n",
              "      <td>0.20</td>\n",
              "      <td>0.50</td>\n",
              "      <td>1.0</td>\n",
              "      <td>0</td>\n",
              "      <td>0.8</td>\n",
              "      <td>2021</td>\n",
              "      <td>SheffieldUnited</td>\n",
              "    </tr>\n",
              "    <tr>\n",
              "      <th>37</th>\n",
              "      <td>2024-04-27</td>\n",
              "      <td>15:00</td>\n",
              "      <td>Premier League</td>\n",
              "      <td>Matchweek 35</td>\n",
              "      <td>Sat</td>\n",
              "      <td>Away</td>\n",
              "      <td>L</td>\n",
              "      <td>1</td>\n",
              "      <td>5</td>\n",
              "      <td>Newcastle Utd</td>\n",
              "      <td>...</td>\n",
              "      <td>15.0</td>\n",
              "      <td>4.0</td>\n",
              "      <td>26.7</td>\n",
              "      <td>0.07</td>\n",
              "      <td>0.25</td>\n",
              "      <td>0.0</td>\n",
              "      <td>0</td>\n",
              "      <td>1.5</td>\n",
              "      <td>2021</td>\n",
              "      <td>SheffieldUnited</td>\n",
              "    </tr>\n",
              "    <tr>\n",
              "      <th>38</th>\n",
              "      <td>2024-05-04</td>\n",
              "      <td>15:00</td>\n",
              "      <td>Premier League</td>\n",
              "      <td>Matchweek 36</td>\n",
              "      <td>Sat</td>\n",
              "      <td>Home</td>\n",
              "      <td>L</td>\n",
              "      <td>1</td>\n",
              "      <td>3</td>\n",
              "      <td>Nott'ham Forest</td>\n",
              "      <td>...</td>\n",
              "      <td>16.0</td>\n",
              "      <td>4.0</td>\n",
              "      <td>25.0</td>\n",
              "      <td>0.00</td>\n",
              "      <td>0.00</td>\n",
              "      <td>0.0</td>\n",
              "      <td>1</td>\n",
              "      <td>2.2</td>\n",
              "      <td>2021</td>\n",
              "      <td>SheffieldUnited</td>\n",
              "    </tr>\n",
              "    <tr>\n",
              "      <th>39</th>\n",
              "      <td>2024-05-11</td>\n",
              "      <td>15:00</td>\n",
              "      <td>Premier League</td>\n",
              "      <td>Matchweek 37</td>\n",
              "      <td>Sat</td>\n",
              "      <td>Away</td>\n",
              "      <td>L</td>\n",
              "      <td>0</td>\n",
              "      <td>1</td>\n",
              "      <td>Everton</td>\n",
              "      <td>...</td>\n",
              "      <td>13.0</td>\n",
              "      <td>1.0</td>\n",
              "      <td>7.7</td>\n",
              "      <td>0.00</td>\n",
              "      <td>0.00</td>\n",
              "      <td>0.0</td>\n",
              "      <td>0</td>\n",
              "      <td>0.6</td>\n",
              "      <td>2021</td>\n",
              "      <td>SheffieldUnited</td>\n",
              "    </tr>\n",
              "    <tr>\n",
              "      <th>40</th>\n",
              "      <td>2024-05-19</td>\n",
              "      <td>16:00</td>\n",
              "      <td>Premier League</td>\n",
              "      <td>Matchweek 38</td>\n",
              "      <td>Sun</td>\n",
              "      <td>Home</td>\n",
              "      <td>L</td>\n",
              "      <td>0</td>\n",
              "      <td>3</td>\n",
              "      <td>Tottenham</td>\n",
              "      <td>...</td>\n",
              "      <td>6.0</td>\n",
              "      <td>1.0</td>\n",
              "      <td>16.7</td>\n",
              "      <td>0.00</td>\n",
              "      <td>0.00</td>\n",
              "      <td>1.0</td>\n",
              "      <td>0</td>\n",
              "      <td>1.0</td>\n",
              "      <td>2021</td>\n",
              "      <td>SheffieldUnited</td>\n",
              "    </tr>\n",
              "  </tbody>\n",
              "</table>\n",
              "<p>2868 rows × 29 columns</p>\n",
              "</div>"
            ],
            "text/plain": [
              "          Date   Time              Comp                Round  Day    Venue  \\\n",
              "0   2023-08-06  16:00  Community Shield  FA Community Shield  Sun  Neutral   \n",
              "1   2023-08-11  20:00    Premier League          Matchweek 1  Fri     Away   \n",
              "2   2023-08-16  22:00         Super Cup       UEFA Super Cup  Wed     Home   \n",
              "3   2023-08-19  20:00    Premier League          Matchweek 2  Sat     Home   \n",
              "4   2023-08-27  14:00    Premier League          Matchweek 3  Sun     Away   \n",
              "..         ...    ...               ...                  ...  ...      ...   \n",
              "36  2024-04-24  20:00    Premier League         Matchweek 29  Wed     Away   \n",
              "37  2024-04-27  15:00    Premier League         Matchweek 35  Sat     Away   \n",
              "38  2024-05-04  15:00    Premier League         Matchweek 36  Sat     Home   \n",
              "39  2024-05-11  15:00    Premier League         Matchweek 37  Sat     Away   \n",
              "40  2024-05-19  16:00    Premier League         Matchweek 38  Sun     Home   \n",
              "\n",
              "   Result     GF     GA         Opponent  ...    Sh  SoT  SoT%  G/Sh G/SoT  \\\n",
              "0       D  1 (1)  1 (4)          Arsenal  ...   8.0  4.0  50.0  0.13  0.25   \n",
              "1       W      3      0          Burnley  ...  17.0  8.0  47.1  0.18  0.38   \n",
              "2       D  1 (5)  1 (4)       es Sevilla  ...  23.0  7.0  30.4  0.04  0.14   \n",
              "3       W      1      0    Newcastle Utd  ...  14.0  4.0  28.6  0.07  0.25   \n",
              "4       W      2      1    Sheffield Utd  ...  29.0  9.0  31.0  0.07  0.22   \n",
              "..    ...    ...    ...              ...  ...   ...  ...   ...   ...   ...   \n",
              "36      L      2      4   Manchester Utd  ...  10.0  4.0  40.0  0.20  0.50   \n",
              "37      L      1      5    Newcastle Utd  ...  15.0  4.0  26.7  0.07  0.25   \n",
              "38      L      1      3  Nott'ham Forest  ...  16.0  4.0  25.0  0.00  0.00   \n",
              "39      L      0      1          Everton  ...  13.0  1.0   7.7  0.00  0.00   \n",
              "40      L      0      3        Tottenham  ...   6.0  1.0  16.7  0.00  0.00   \n",
              "\n",
              "     FK PK xG_y Season             Name  \n",
              "0   NaN  0  NaN   2022   ManchesterCity  \n",
              "1   0.0  0  1.9   2022   ManchesterCity  \n",
              "2   NaN  0  NaN   2022   ManchesterCity  \n",
              "3   0.0  0  1.0   2022   ManchesterCity  \n",
              "4   2.0  0  3.5   2022   ManchesterCity  \n",
              "..  ... ..  ...    ...              ...  \n",
              "36  1.0  0  0.8   2021  SheffieldUnited  \n",
              "37  0.0  0  1.5   2021  SheffieldUnited  \n",
              "38  0.0  1  2.2   2021  SheffieldUnited  \n",
              "39  0.0  0  0.6   2021  SheffieldUnited  \n",
              "40  1.0  0  1.0   2021  SheffieldUnited  \n",
              "\n",
              "[2868 rows x 29 columns]"
            ]
          },
          "execution_count": 34,
          "metadata": {},
          "output_type": "execute_result"
        }
      ],
      "source": [
        "match_df = pd.concat(all_matches)\n",
        "match_df"
      ]
    },
    {
      "cell_type": "code",
      "execution_count": 35,
      "metadata": {
        "id": "IBJZwfvrAj6R"
      },
      "outputs": [],
      "source": [
        "match_df.to_csv(\"matches.csv\")"
      ]
    },
    {
      "cell_type": "markdown",
      "metadata": {},
      "source": []
    },
    {
      "cell_type": "code",
      "execution_count": null,
      "metadata": {},
      "outputs": [],
      "source": []
    },
    {
      "cell_type": "markdown",
      "metadata": {
        "id": "tOhX58uPh2NF"
      },
      "source": []
    }
  ],
  "metadata": {
    "colab": {
      "provenance": []
    },
    "kernelspec": {
      "display_name": "Python 3.10.7 64-bit",
      "language": "python",
      "name": "python3"
    },
    "language_info": {
      "codemirror_mode": {
        "name": "ipython",
        "version": 3
      },
      "file_extension": ".py",
      "mimetype": "text/x-python",
      "name": "python",
      "nbconvert_exporter": "python",
      "pygments_lexer": "ipython3",
      "version": "3.10.7"
    },
    "vscode": {
      "interpreter": {
        "hash": "aee8b7b246df8f9039afb4144a1f6fd8d2ca17a180786b69acc140d282b71a49"
      }
    }
  },
  "nbformat": 4,
  "nbformat_minor": 0
}
